{
 "cells": [
  {
   "cell_type": "code",
   "execution_count": 1,
   "metadata": {},
   "outputs": [],
   "source": [
    "import io\n",
    "import os\n",
    "import json\n",
    "\n",
    "# Imports the Google Cloud client library\n",
    "from google.cloud import vision_v1p1beta1\n",
    "from google.cloud.vision_v1p1beta1 import types"
   ]
  },
  {
   "cell_type": "code",
   "execution_count": 3,
   "metadata": {},
   "outputs": [
    {
     "name": "stdout",
     "output_type": "stream",
     "text": [
      "env: GOOGLE_APPLICATION_CREDENTIALS=/Users/chappers/Documents/DataScience/0_Method_DS/MethodDS-KaggleKat-8b57553f8dbf.json\n"
     ]
    }
   ],
   "source": [
    "%env GOOGLE_APPLICATION_CREDENTIALS=/Users/chappers/Documents/DataScience/0_Method_DS/MethodDS-KaggleKat-8b57553f8dbf.json"
   ]
  },
  {
   "cell_type": "code",
   "execution_count": 4,
   "metadata": {},
   "outputs": [],
   "source": [
    "# Instantiates a client\n",
    "client = vision_v1p1beta1.ImageAnnotatorClient()\n",
    "\n",
    "# The name of the image file to annotate\n",
    "file_name = os.path.join(\n",
    "    os.path.dirname('__file__'),\n",
    "    'IMG_2934.jpg')"
   ]
  },
  {
   "cell_type": "code",
   "execution_count": 5,
   "metadata": {},
   "outputs": [
    {
     "name": "stdout",
     "output_type": "stream",
     "text": [
      "Labels:\n",
      "mid: \"/m/0n5v01m\"\n",
      "description: \"bag\"\n",
      "score: 0.8551287651062012\n",
      "topicality: 0.8551287651062012\n",
      "\n",
      "mid: \"/m/01jwgf\"\n",
      "description: \"product\"\n",
      "score: 0.7906314134597778\n",
      "topicality: 0.7906314134597778\n",
      "\n",
      "mid: \"/m/080hkjn\"\n",
      "description: \"handbag\"\n",
      "score: 0.7440301775932312\n",
      "topicality: 0.7440301775932312\n",
      "\n",
      "mid: \"/m/04t7l\"\n",
      "description: \"metal\"\n",
      "score: 0.6029984951019287\n",
      "topicality: 0.6029984951019287\n",
      "\n",
      "mid: \"/m/03hzcs\"\n",
      "description: \"beige\"\n",
      "score: 0.5875622034072876\n",
      "topicality: 0.5875622034072876\n",
      "\n",
      "mid: \"/m/0j62f\"\n",
      "description: \"rectangle\"\n",
      "score: 0.5806199312210083\n",
      "topicality: 0.5806199312210083\n",
      "\n",
      "mid: \"/m/0hgrzkp\"\n",
      "description: \"shoulder bag\"\n",
      "score: 0.5463387966156006\n",
      "topicality: 0.5463387966156006\n",
      "\n"
     ]
    }
   ],
   "source": [
    "# Loads the image into memory\n",
    "with io.open(file_name, 'rb') as image_file:\n",
    "    content = image_file.read()\n",
    "\n",
    "image = types.Image(content=content)\n",
    "\n",
    "# Performs label detection on the image file\n",
    "response = client.label_detection(image=image)\n",
    "labels = response.label_annotations\n",
    "\n",
    "print('Labels:')\n",
    "for label in labels:\n",
    "    # print(label.description)\n",
    "    print(label)"
   ]
  },
  {
   "cell_type": "code",
   "execution_count": 6,
   "metadata": {},
   "outputs": [],
   "source": [
    "# create str_search to be used in the EBAY API call for KEYWORDS\n",
    "# str_search = str(labels[0].description + \" , \" +\n",
    "#                 labels[2].description + \" , \" +\n",
    "#                 # + labels[3].description + \" , \" +\n",
    "#                 labels[4].description + \" , \" + \n",
    "                 # labels[5].description + \" , \" +\n",
    "#                 labels[6].description)\n",
    "str_search = str(labels[0].description)"
   ]
  },
  {
   "cell_type": "code",
   "execution_count": 48,
   "metadata": {},
   "outputs": [],
   "source": [
    "web_scores=[]\n",
    "best_g=[]\n",
    "# def annotate(path):\n",
    "#    \"\"\"Returns web annotations given the path to an image.\"\"\"\n",
    "#    client = vision.ImageAnnotatorClient()\n",
    "\n",
    "#    if path.startswith('http') or path.startswith('gs:'):\n",
    "#        image = types.Image()\n",
    "#        image.source.image_uri = path\n",
    "\n",
    "#    else:\n",
    "#        with io.open(path, 'rb') as image_file:\n",
    "#            content = image_file.read()\n",
    "\n",
    "#        image = vision.types.Image(content=content)\n",
    "\n",
    "#    web_detection = client.web_detection(image=image).web_detection\n",
    "\n",
    "#    return web_detection\n",
    "\n",
    "def detect_web(path):\n",
    "    \"\"\"Detects web annotations given an image.\"\"\"\n",
    "    client = vision_v1p1beta1.ImageAnnotatorClient()\n",
    "\n",
    "    with io.open(path, 'rb') as image_file:\n",
    "        content = image_file.read()\n",
    "\n",
    "    image = vision_v1p1beta1.types.Image(content=content)\n",
    "\n",
    "    # how doe we get this \n",
    "    response = client.web_detection(image=image)\n",
    "    annotations = response.web_detection\n",
    "\n",
    "    for label in annotations.best_guess_labels:\n",
    "        print('\\nBest guess label: {}'.format(label.label))\n",
    "        best_g.append(format(label.label))\n",
    "\n",
    "# def report(annotations):\n",
    "    \"\"\"Prints detected features in the provided web annotations.\"\"\"\n",
    "    if annotations.pages_with_matching_images:\n",
    "        print('\\n{} Pages with matching images retrieved'.format(\n",
    "            len(annotations.pages_with_matching_images)))\n",
    "\n",
    "        for page in annotations.pages_with_matching_images:\n",
    "            print('Url   : {}'.format(page.url))\n",
    "            \n",
    "#    if annotations.best_guess_labels:\n",
    "#        for label in annotations.best_guess_labels:\n",
    "#            print('\\nBest guess label: {}'.format(label.label))\n",
    "\n",
    "    if annotations.full_matching_images:\n",
    "        print ('\\n{} Full Matches found: '.format(\n",
    "               len(annotations.full_matching_images)))\n",
    "\n",
    "        for image in annotations.full_matching_images:\n",
    "            print('Url  : {}'.format(image.url))\n",
    "\n",
    "    if annotations.partial_matching_images:\n",
    "        print ('\\n{} Partial Matches found: '.format(\n",
    "               len(annotations.partial_matching_images)))\n",
    "\n",
    "        for image in annotations.partial_matching_images:\n",
    "            print('Url  : {}'.format(image.url))\n",
    "\n",
    "    if annotations.web_entities:\n",
    "        print ('\\n{} Web entities found: '.format(\n",
    "            len(annotations.web_entities)))\n",
    "\n",
    "        for entity in annotations.web_entities:\n",
    "            print('Score      : {}'.format(entity.score))\n",
    "            print('Description: {}'.format(entity.description))\n",
    "            if (entity.score>0.90):\n",
    "                web_scores.append(entity.description)"
   ]
  },
  {
   "cell_type": "code",
   "execution_count": 49,
   "metadata": {},
   "outputs": [
    {
     "name": "stdout",
     "output_type": "stream",
     "text": [
      "\n",
      "Best guess label: michael kors travel bag\n",
      "\n",
      "10 Web entities found: \n",
      "Score      : 1.2195520401000977\n",
      "Description: Handbag\n",
      "Score      : 0.9519000053405762\n",
      "Description: Michael Kors\n",
      "Score      : 0.7020999789237976\n",
      "Description: Tote bag\n",
      "Score      : 0.7020000219345093\n",
      "Description: Bag\n",
      "Score      : 0.6345999836921692\n",
      "Description: \n",
      "Score      : 0.612661600112915\n",
      "Description: Product design\n",
      "Score      : 0.5934000015258789\n",
      "Description: Messenger Bags\n",
      "Score      : 0.4374000132083893\n",
      "Description: Design\n",
      "Score      : 0.43650001287460327\n",
      "Description: Travel\n",
      "Score      : 0.41990000009536743\n",
      "Description: Shoulder\n"
     ]
    }
   ],
   "source": [
    "# report(annotate('IMG_2934.jpg'))\n",
    "detect_web('IMG_2934.jpg')"
   ]
  },
  {
   "cell_type": "code",
   "execution_count": 51,
   "metadata": {},
   "outputs": [],
   "source": [
    "for rows in range(0,len(web_scores)):\n",
    "    str_search=(str_search+\" , \"+ web_scores[rows])"
   ]
  },
  {
   "cell_type": "code",
   "execution_count": 59,
   "metadata": {},
   "outputs": [
    {
     "data": {
      "text/plain": [
       "'michael kors travel bag'"
      ]
     },
     "execution_count": 59,
     "metadata": {},
     "output_type": "execute_result"
    }
   ],
   "source": [
    "keyword_string = best_g[0]\n",
    "keyword_string"
   ]
  },
  {
   "cell_type": "code",
   "execution_count": 53,
   "metadata": {},
   "outputs": [],
   "source": [
    "# call EBAY API and get offers, based on the STR_SEARCH value.\n",
    "# note, \n",
    "from ebaysdk.finding import Connection as Finding\n",
    "from ebaysdk.exception import ConnectionError\n",
    "\n",
    "try:\n",
    "    api = Finding(siteid='EBAY-US', appid=\"API_KEY\", config_file=None)\n",
    "    response = api.execute('findItemsAdvanced', {'keywords': keyword_string})\n",
    "    # print(response.dict())\n",
    "except ConnectionError as e:\n",
    "    print(e)\n",
    "    print(e.response.dict())"
   ]
  },
  {
   "cell_type": "code",
   "execution_count": 54,
   "metadata": {},
   "outputs": [],
   "source": [
    "with open('image_G_output.json', 'w') as outfile:\n",
    "    json.dump(response.dict(), outfile)"
   ]
  },
  {
   "cell_type": "code",
   "execution_count": 55,
   "metadata": {},
   "outputs": [
    {
     "name": "stdout",
     "output_type": "stream",
     "text": [
      "Pretty printer complete.\n"
     ]
    }
   ],
   "source": [
    "# save the records returned from EBAY API in a formatted json file\n",
    "def getFileData(fileName):\n",
    "# Open a file, and read the contents. The with..open operation will auto-close the file as well.\n",
    "    with open(fileName) as handle:\n",
    "        data = handle.read()\n",
    "        return data\n",
    "def prettyPrint(data, outfile):\n",
    "# Pretty print and write the file back to the argument 'outfile'\n",
    "    with open(outfile, \"w\") as handle:\n",
    "        handle.write ( json.dumps(json.loads(data), indent=4, sort_keys=True) )\n",
    "     \n",
    "outfile = 'tester1.json'\n",
    "jsondata = getFileData('image_G_output.json')\n",
    "prettyPrint(jsondata, outfile)\n",
    "print('Pretty printer complete.')"
   ]
  },
  {
   "cell_type": "code",
   "execution_count": 56,
   "metadata": {},
   "outputs": [],
   "source": [
    "# read in the image file (json) that just created\n",
    "with open('image_G_output.json', 'r') as fp:\n",
    "    obj = json.load(fp)"
   ]
  },
  {
   "cell_type": "code",
   "execution_count": 57,
   "metadata": {},
   "outputs": [
    {
     "data": {
      "text/plain": [
       "['http://www.ebay.com/itm/NWT-Michael-Kors-Blossom-Saffiano-Leather-Jet-Set-Travel-Chain-Shoulder-Tote-Bag-/352329079584',\n",
       " 'http://www.ebay.com/itm/MICHAEL-KORS-Fragrances-gold-metallic-tote-bag-shopper-purse-travel-NEW-/292441042622',\n",
       " 'http://www.ebay.com/itm/MICHAEL-KORS-JET-SET-TRAVEL-CARRYALL-TOTE-FLORAL-PVC-BAG-NAVY-/173367109356',\n",
       " 'http://www.ebay.com/itm/NWT-MICHAEL-KORS-PVC-JET-SET-TRAVEL-DOUBLE-GUSSET-CROSSBODY-BAG-VANILLA-ACORN-/283051021679',\n",
       " 'http://www.ebay.com/itm/Michael-Kors-Jet-Set-Travel-Messenger-Large-Crossbody-Bag-Signature-Vanilla-/302753879781',\n",
       " 'http://www.ebay.com/itm/MICHAEL-KORS-gold-metallic-duffle-bag-travel-gym-weekender-overnight-tote-/123188918736',\n",
       " 'http://www.ebay.com/itm/NWT-MICHAEL-KORS-FLORAL-JET-SET-TRAVEL-MEDIUM-CARRYALL-TOTE-BAG-NAVY-/173326146588',\n",
       " 'http://www.ebay.com/itm/NWT-Michael-Kors-Brown-PVC-Travel-Messenger-Crossbody-Shoulder-Bag-MK-Medallion-/352109092522',\n",
       " 'http://www.ebay.com/itm/NWT-Michael-Kors-Large-Tote-Handbag-Bag-Black-Jet-Set-Travel-MK-PVC-/192591373572',\n",
       " 'http://www.ebay.com/itm/MICHAEL-KORS-JET-SET-TRAVEL-LARGE-DRAWSTRING-TOTE-MK-SIGNATURE-BAG-VANILLA-/173386756959',\n",
       " 'http://www.ebay.com/itm/NWT-Michael-Kors-Gold-Saffiano-Leather-Jet-Set-Travel-Chain-Shoulder-Tote-Bag-/352184097262',\n",
       " 'http://www.ebay.com/itm/Michael-Michael-Kors-Jet-Set-Travel-Large-EW-Tile-Blue-Leather-Crossbody-Bag-/273295294635',\n",
       " 'http://www.ebay.com/itm/NEW-MICHAEL-KORS-TRAVEL-WEEKENDER-VANILLA-LARGE-CARRYALL-DUFFLE-BAG-HANDBAG-/122487444214',\n",
       " 'http://www.ebay.com/itm/NWT-Michael-Kors-JET-SET-TRAVEL-Large-Phone-Case-Clutch-Crossbody-Bag-/323186993783?var=512322694611',\n",
       " 'http://www.ebay.com/itm/Michael-Kors-JET-SET-TRAVEL-LG-Pocket-Messenger-Bag-Wristlet-Vanilla-Ballet-/352355337821',\n",
       " 'http://www.ebay.com/itm/NWT-MICHAEL-KORS-PVC-FLORAL-JET-SET-TRAVEL-MEDIUM-CARRYALL-TOTE-BAG-PINK-VANILLA-/192593844302',\n",
       " 'http://www.ebay.com/itm/MICHAEL-Michael-Kors-Jet-Set-Travel-MF-Phone-Crossbody-Clutch-Bag-Brown-Acorn-/232809956066',\n",
       " 'http://www.ebay.com/itm/MICHAEL-KORS-JET-SET-TRAVEL-MEDIUM-CARRYALL-TOTE-BAG-LEATHER-NAVY-BLUE-FLORAL-/292545415755',\n",
       " 'http://www.ebay.com/itm/NWT-MICHAEL-KORS-JET-SET-TRAVEL-DOUBLE-Gusset-Crossbody-Bag-BLACK-Leather-MK-Zip-/173217518450',\n",
       " 'http://www.ebay.com/itm/Michael-Kors-Jet-Set-Travel-Large-Phone-Crossbody-Bag-Granita-Pink-Floral-Wallet-/263708336718',\n",
       " 'http://www.ebay.com/itm/NWT-Michael-Kors-Black-Saffiano-Leather-Jet-Set-Travel-Chain-Shoulder-Tote-Bag-/352025374681',\n",
       " 'http://www.ebay.com/itm/MICHAEL-KORS-gold-duffle-leather-travel-gym-weekender-overnight-shoulder-Bag-/263468375749',\n",
       " 'http://www.ebay.com/itm/Michael-Kors-Jet-Set-Travel-Signature-Top-Zip-Wristlet-Bag-Pouch-PVC-Vanilla-New-/283016674855',\n",
       " 'http://www.ebay.com/itm/NWT-MICHAEL-KORS-LEATHER-JET-SET-TRAVEL-LG-NS-TOTE-BAG-LUGGAGE-SALE-/283049973939',\n",
       " 'http://www.ebay.com/itm/NEW-MICHAEL-KORS-TRAVEL-XL-XLARGE-BROWN-PVC-CARRYALL-DUFFLE-BAG-HANDBAG-/122797400770',\n",
       " 'http://www.ebay.com/itm/NWT-Michael-Kors-Signature-Jet-Set-Travel-TZ-Tote-Bag-Brown-258-00-/163138959038',\n",
       " 'http://www.ebay.com/itm/Michael-Kors-Jet-Set-Travel-Medium-EW-Vanilla-PVC-MK-Logo-Crossbody-Bag-/253743917437',\n",
       " 'http://www.ebay.com/itm/Michael-Kors-Jet-Set-Travel-Saffiano-Leather-Small-Tote-Bag-Purse-Fuschia-/123241641291',\n",
       " 'http://www.ebay.com/itm/NWT-MICHAEL-KORS-LEATHER-HEARTS-JET-SET-TRAVEL-MEDIUM-CARRYALL-TOTE-BAG-CHERRY-/192593786221',\n",
       " 'http://www.ebay.com/itm/New-Michael-Kors-Jet-Set-Travel-Double-Gusset-Leather-Wristlet-Bag-Black-White-/263805676824',\n",
       " 'http://www.ebay.com/itm/Michael-Kors-Black-Saffiano-Leather-Small-Satchel-Jet-Set-Travel-Crossbody-Bag-/263594579653',\n",
       " 'http://www.ebay.com/itm/MK-Michael-Kors-Medium-Duffel-Bag-Travel-Weekender-Pale-Gold-/273339872770',\n",
       " 'http://www.ebay.com/itm/MICHAEL-KORS-gold-metallic-tote-bag-purse-shoulder-Travel-handbag-NEW-/153094129641',\n",
       " 'http://www.ebay.com/itm/NEW-MICHAEL-KORS-TRAVEL-XL-XLARGE-VANILLA-PVC-CARRYALL-DUFFLE-BAG-HANDBAG-/292313467380',\n",
       " 'http://www.ebay.com/itm/NWT-Michael-Kors-Jet-Set-Travel-Large-Drawstring-Tote-Mk-Bag-Brown-Acorn-/283026884575',\n",
       " 'http://www.ebay.com/itm/NWT-MICHAEL-KORS-PVC-JET-SET-TRAVEL-LG-MESSENGER-CROSSBODY-BAG-BROWN-ACORN-/283033165327',\n",
       " 'http://www.ebay.com/itm/Michael-Michael-Kors-Jet-Set-Travel-Large-EW-Pale-Gold-Leather-Crossbody-Bag-/292451338899',\n",
       " 'http://www.ebay.com/itm/NWT-MICHAEL-KORS-FLORAL-JET-SET-TRAVEL-MEDIUM-CARRYALL-TOTE-BAG-Dark-Sangria-/282934999781',\n",
       " 'http://www.ebay.com/itm/NWT-Michael-Kors-JET-SET-TRAVEL-Large-Pocket-Messenger-Crossbody-Bag-w-Wristlet-/322983062637?var=512121154637',\n",
       " 'http://www.ebay.com/itm/NWT-Michael-Kors-Jet-Set-Travel-Tote-Leather-Black-Top-Zip-Bag-278-/223051584511',\n",
       " 'http://www.ebay.com/itm/Michael-Kors-Jet-Set-Travel-Logo-Messenger-Bag-Vanilla-Ivory-MSRP-198-/183284263205',\n",
       " 'http://www.ebay.com/itm/MICHAEL-KORS-HEARTS-JET-SET-TRAVEL-CARRYALL-TOTE-MK-SIGNATURE-BAG-VANILLA-GOLD-/173245468880',\n",
       " 'http://www.ebay.com/itm/NWT-MICHAEL-KORS-PVC-JET-SET-TRAVEL-DOUBLE-GUSSET-CROSSBODY-BAG-BROWN-ACORN-/283051021680',\n",
       " 'http://www.ebay.com/itm/MICHAEL-KORS-gold-metallic-tote-bag-purse-shopper-shoulder-Travel-handbag-/253411248821',\n",
       " 'http://www.ebay.com/itm/Michael-Kors-Lg-Weekender-Pearl-Grey-Saffiano-Leather-Travel-Bag-Nwt-/253739689169',\n",
       " 'http://www.ebay.com/itm/NEW-MICHAEL-KORS-MK-SIGNATURE-VANILLA-JET-SET-TRAVEL-LARGE-MESSENGER-BAG-/372291552590',\n",
       " 'http://www.ebay.com/itm/MICHAEL-KORS-JET-SET-TRAVEL-LARGE-DRAWSTRING-TOTE-MK-SIGNATURE-BAG-BROWN-/183301724541',\n",
       " 'http://www.ebay.com/itm/MICHAEL-KORS-Gold-Weekender-Duffle-Travel-Tote-Bag-NEW-/183319525441',\n",
       " 'http://www.ebay.com/itm/MICHAEL-KORS-Jet-Set-Travel-TOTE-Medium-Acorn-SAFFIANO-Leather-NWT-278-Dust-Bag-/132699181719',\n",
       " 'http://www.ebay.com/itm/NEW-MICHAEL-KORS-MK-SIGNATURE-BROWN-JET-SET-TRAVEL-MESSENGER-BAG-WRISTLET-SET-/372319487736',\n",
       " 'http://www.ebay.com/itm/NWT-Michael-Kors-Jet-Set-Travel-EW-Pebbled-Leather-bag-Zip-Top-Tote-Ecru-/282979420369',\n",
       " 'http://www.ebay.com/itm/NWT-MICHAEL-KORS-PVC-JET-SET-TRAVEL-LG-MESSENGER-BAG-VANILLA-ACORN-/401563093212',\n",
       " 'http://www.ebay.com/itm/Michael-Kors-Parfum-BlackJet-Set-Duffle-Overnight-Weekender-Travel-Gym-Bag-New-/253395708234',\n",
       " 'http://www.ebay.com/itm/AUTHENTIC-Michael-kors-travel-duffle-bag-/253716978390',\n",
       " 'http://www.ebay.com/itm/Michael-Kors-Jet-Set-Travel-Khaki-Leather-Tote-Shoulder-Bag-/253731145377',\n",
       " 'http://www.ebay.com/itm/Michael-Kors-Large-Jet-Set-Tote-Duffle-Travel-Overnight-Weekender-Bag-Black-Navy-/253396386790',\n",
       " 'http://www.ebay.com/itm/Michael-Kors-Hamilton-XL-Weekender-Luggage-DK-DUNE-Leather-travel-purse-tote-Bag-/392080301079',\n",
       " 'http://www.ebay.com/itm/Michael-Kors-Medium-Jet-Set-Travel-Stripe-Tote-Red-White-purse-hand-bag-/372332285047',\n",
       " 'http://www.ebay.com/itm/Michael-Kors-Jet-Set-Travel-Signature-Top-Zip-Wristlet-Bag-Pouch-PVC-Brown-New-/273245492058',\n",
       " 'http://www.ebay.com/itm/NWT-MICHAEL-KORS-JET-SET-TRAVEL-LARGE-PHONE-LEATHER-CROSSBODY-BAG-BLACK-/163142468037',\n",
       " 'http://www.ebay.com/itm/Michael-Kors-Tile-Blue-Saffiano-Jet-Set-Travel-Large-Tote-Bag-Purse-MINT-COND-/323341203859',\n",
       " 'http://www.ebay.com/itm/NWT-Michael-Kors-JET-SET-TRAVEL-ZIP-TOP-BLUSH-Saffiano-Leather-TOTE-BAG-278-/323338857673',\n",
       " 'http://www.ebay.com/itm/MICHAEL-KORS-JET-SET-TRAVEL-Navy-Blue-Saffiano-Leather-Tote-Bag-/332712107791',\n",
       " 'http://www.ebay.com/itm/NEW-MICHAEL-KORS-JET-SET-ITEM-BURGUNDY-LEATHER-S-M-TRAVEL-TOTE-SHOULDER-BAG-228-/142862589986',\n",
       " 'http://www.ebay.com/itm/New-Michael-Kors-Travel-MK-Signature-Brown-PVC-Large-Crossbody-Messenger-Bag-/153092963400',\n",
       " 'http://www.ebay.com/itm/NWT-MICHAEL-KORS-PVC-HEARTS-JET-SET-TRAVEL-MEDIUM-CARRYALL-TOTE-BAG-VANILLA-/192593786195',\n",
       " 'http://www.ebay.com/itm/Michael-Michael-Kors-Jet-Set-Travel-Vanilla-MK-Logo-Large-Messenger-Bag-/273145636310',\n",
       " 'http://www.ebay.com/itm/NWT-MICHAEL-KORS-JET-SET-TRAVEL-WALLET-PHONE-CROSSBODY-BAG-VARIOUS-/283028309521?var=583400697242',\n",
       " 'http://www.ebay.com/itm/Michael-Kors-Jet-Set-Travel-Signature-Small-Carryall-Tote-Bag-Brown-Acorn-/142854271309',\n",
       " 'http://www.ebay.com/itm/Michael-Michael-Kors-Jet-Set-Travel-Large-EW-Black-Leather-Crossbody-Bag-/292597087711',\n",
       " 'http://www.ebay.com/itm/MICHAEL-KORS-gold-metallic-tote-bag-shopper-shoulder-Travel-handbag-NEW-/202355192760',\n",
       " 'http://www.ebay.com/itm/MICHAEL-KORS-BLUE-BLACK-Duffle-Weekender-Travel-Gym-Bag-Handbag-NEW-/332635943884',\n",
       " 'http://www.ebay.com/itm/Michael-Kors-Brown-MK-Signature-PVC-Jet-Set-Travel-Large-N-S-Messenger-Bag-/232841151603',\n",
       " 'http://www.ebay.com/itm/NEW-MICHAEL-KORS-MK-SIGNATURE-VANILLA-JET-SET-TRAVEL-MESSENGER-BAG-WRISTLET-SET-/263646374952',\n",
       " 'http://www.ebay.com/itm/NWT-Michael-Kors-Jet-Set-Travel-Caryall-XS-Tote-Bag-Optic-White-Saffiano-Leather-/173356599547',\n",
       " 'http://www.ebay.com/itm/MICHAEL-KORS-JET-SET-TRAVEL-LARGE-MESSENGER-BAG-CROSSBODY-SIGNATURE-BROWN-268-/302694059218',\n",
       " 'http://www.ebay.com/itm/NWT-Michael-Kors-Large-Tote-Handbag-Bag-Black-Jet-Set-Travel-MK-PVC-/202362579157',\n",
       " 'http://www.ebay.com/itm/NWT-Michael-Kors-Jet-Set-Travel-Leather-Top-Zip-Tote-Bag-Purse-278-Blush-/153053670100',\n",
       " 'http://www.ebay.com/itm/Michael-Kors-Admiral-Blue-Jet-Set-Travel-Leather-Large-Crossbody-Bag-148-053-/312185313540',\n",
       " 'http://www.ebay.com/itm/Michael-Kors-Parfums-Silver-Gold-Bag-Purse-Tote-Shopping-Travel-Handbag-/253413248468',\n",
       " 'http://www.ebay.com/itm/NWT-Michael-Kors-Bag-Jet-Set-Travel-Top-Zip-Black-Leather-Tote-Handbag-MSRP-278-/332716789244',\n",
       " 'http://www.ebay.com/itm/MICHAEL-KORS-Gold-metallic-tote-bag-purse-shopper-shoulder-handbag-travel-/253658273397',\n",
       " 'http://www.ebay.com/itm/Michael-Kors-MK-Logo-Brown-Jet-Set-Travel-Tote-Bag-/292636478173',\n",
       " 'http://www.ebay.com/itm/NEW-MICHAEL-KORS-TRAVEL-XL-XLARGE-BLACK-PVC-CARRYALL-DUFFLE-BAG-HANDBAG-/302509014721',\n",
       " 'http://www.ebay.com/itm/Michael-Kors-Womens-EMMY-Travel-Pouch-Make-up-Case-Bag-Floral-Flower-Vanilla-/173298735443',\n",
       " 'http://www.ebay.com/itm/NWT-Michael-Kors-Jet-Set-Travel-Saffiano-Leather-Large-Tote-Bag-Ultra-Pink-/392073863111',\n",
       " 'http://www.ebay.com/itm/New-258-Michael-Kors-Jet-Set-Travel-MK-Large-Handbag-Bag-/223050652604',\n",
       " 'http://www.ebay.com/itm/Michael-Kors-Jet-Set-Travel-Large-Tote-Bag-Tile-Blue-Saffiano-Leather-Laptop-/253717900092',\n",
       " 'http://www.ebay.com/itm/NWT-Michael-Kors-Jet-Set-Travel-Tote-Leather-Acorn-Brown-Top-Zip-Bag-278-/223052692356',\n",
       " 'http://www.ebay.com/itm/NWT-Michael-Kors-Jet-Set-Travel-Lg-Chain-Shoulder-Bag-Black-Gray-Gold-Hardware-/113118412666',\n",
       " 'http://www.ebay.com/itm/MICHAEL-KORS-TRAVEL-BROWN-PVC-CARRYALL-DUFFLE-BAG-HANDBAG-/153091553070',\n",
       " 'http://www.ebay.com/itm/Michael-Michael-Kors-Jet-Set-Travel-Large-EW-Citrus-Leather-Crossbody-Bag-/273264507729',\n",
       " 'http://www.ebay.com/itm/Michael-Kors-Jet-Set-Signature-Canvas-Travel-Weekender-Tote-Bag-/273327029958',\n",
       " 'http://www.ebay.com/itm/Michael-Michael-Kors-Jet-Set-Travel-Medium-EW-Black-Leather-Crossbody-Bag-/273306943866',\n",
       " 'http://www.ebay.com/itm/MICHAEL-KORS-HEARTS-JET-SET-TRAVEL-CARRYALL-TOTE-SAFFIANO-LEATHER-BAG-CHERRY-/173245491953',\n",
       " 'http://www.ebay.com/itm/Michael-Kors-88-LEATHER-Cosmetic-Makeup-Bag-Travel-Pouch-Zip-Closure-BLACK-NWT-/332693058739',\n",
       " 'http://www.ebay.com/itm/NWT-Michael-Kors-JET-SET-TRAVEL-Large-Pocket-Messenger-Crossbody-Bag-w-Wristlet-/322983062637?var=0',\n",
       " 'http://www.ebay.com/itm/Michael-Kors-signature-Travel-Large-Weekender-brown-duffle-handbag-shouder-bag-/162489378609',\n",
       " 'http://www.ebay.com/itm/NWT-Michael-Kors-Brown-PVC-Jet-Set-Travel-Large-Chain-Shoulder-Tote-Bag-MK-/172565234051',\n",
       " 'http://www.ebay.com/itm/MICHAEL-KORS-Gold-metallic-tote-purse-shopper-bag-handbag-travel-Faux-snake-/253526498093']"
      ]
     },
     "execution_count": 57,
     "metadata": {},
     "output_type": "execute_result"
    }
   ],
   "source": [
    "# save off the URL's for all offers found\n",
    "url_list=[]\n",
    "for row in range(0,len(obj[\"searchResult\"][\"item\"])):\n",
    "    url_list.append(obj[\"searchResult\"][\"item\"][row][\"viewItemURL\"])\n",
    "url_list"
   ]
  },
  {
   "cell_type": "code",
   "execution_count": 58,
   "metadata": {},
   "outputs": [
    {
     "data": {
      "text/plain": [
       "{'itemId': '183301724541',\n",
       " 'title': 'MICHAEL KORS JET SET TRAVEL LARGE DRAWSTRING TOTE MK SIGNATURE BAG BROWN',\n",
       " 'globalId': 'EBAY-US',\n",
       " 'primaryCategory': {'categoryId': '169291',\n",
       "  'categoryName': \"Women's Bags & Handbags\"},\n",
       " 'galleryURL': 'http://thumbs2.ebaystatic.com/m/m8K5qj7yujR-2q6z-ddUmFg/140.jpg',\n",
       " 'viewItemURL': 'http://www.ebay.com/itm/MICHAEL-KORS-JET-SET-TRAVEL-LARGE-DRAWSTRING-TOTE-MK-SIGNATURE-BAG-BROWN-/183301724541',\n",
       " 'paymentMethod': 'PayPal',\n",
       " 'autoPay': 'true',\n",
       " 'postalCode': '60169',\n",
       " 'location': 'Hoffman Estates,IL,USA',\n",
       " 'country': 'US',\n",
       " 'shippingInfo': {'shippingServiceCost': {'_currencyId': 'USD',\n",
       "   'value': '0.0'},\n",
       "  'shippingType': 'Free',\n",
       "  'shipToLocations': 'Worldwide',\n",
       "  'expeditedShipping': 'true',\n",
       "  'oneDayShippingAvailable': 'false',\n",
       "  'handlingTime': '1'},\n",
       " 'sellingStatus': {'currentPrice': {'_currencyId': 'USD', 'value': '139.95'},\n",
       "  'convertedCurrentPrice': {'_currencyId': 'USD', 'value': '139.95'},\n",
       "  'sellingState': 'Active',\n",
       "  'timeLeft': 'P20DT19H27M24S'},\n",
       " 'listingInfo': {'bestOfferEnabled': 'false',\n",
       "  'buyItNowAvailable': 'false',\n",
       "  'startTime': '2018-07-02T06:28:32.000Z',\n",
       "  'endTime': '2018-08-01T06:28:32.000Z',\n",
       "  'listingType': 'StoreInventory',\n",
       "  'gift': 'false',\n",
       "  'watchCount': '6'},\n",
       " 'returnsAccepted': 'true',\n",
       " 'condition': {'conditionId': '1000', 'conditionDisplayName': 'New with tags'},\n",
       " 'isMultiVariationListing': 'false',\n",
       " 'topRatedListing': 'true'}"
      ]
     },
     "execution_count": 58,
     "metadata": {},
     "output_type": "execute_result"
    }
   ],
   "source": [
    "obj[\"searchResult\"][\"item\"][46]"
   ]
  },
  {
   "cell_type": "code",
   "execution_count": null,
   "metadata": {},
   "outputs": [],
   "source": []
  }
 ],
 "metadata": {
  "kernelspec": {
   "display_name": "Python 3",
   "language": "python",
   "name": "python3"
  },
  "language_info": {
   "codemirror_mode": {
    "name": "ipython",
    "version": 3
   },
   "file_extension": ".py",
   "mimetype": "text/x-python",
   "name": "python",
   "nbconvert_exporter": "python",
   "pygments_lexer": "ipython3",
   "version": "3.6.5"
  },
  "toc": {
   "base_numbering": 1,
   "nav_menu": {},
   "number_sections": true,
   "sideBar": true,
   "skip_h1_title": false,
   "title_cell": "Table of Contents",
   "title_sidebar": "Contents",
   "toc_cell": false,
   "toc_position": {},
   "toc_section_display": true,
   "toc_window_display": false
  }
 },
 "nbformat": 4,
 "nbformat_minor": 2
}
