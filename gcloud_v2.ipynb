{
 "cells": [
  {
   "cell_type": "code",
   "execution_count": 1,
   "metadata": {},
   "outputs": [],
   "source": [
    "import io\n",
    "import os\n",
    "import json\n",
    "\n",
    "# Imports the Google Cloud client library\n",
    "from google.cloud import vision\n",
    "from google.cloud.vision import types"
   ]
  },
  {
   "cell_type": "code",
   "execution_count": 2,
   "metadata": {},
   "outputs": [
    {
     "name": "stdout",
     "output_type": "stream",
     "text": [
      "env: GOOGLE_APPLICATION_CREDENTIALS=/Users/chappers/Documents/DataScience/0_Method_DS/MethodDS-KaggleKat-8b57553f8dbf.json\n"
     ]
    }
   ],
   "source": [
    "%env GOOGLE_APPLICATION_CREDENTIALS=/Users/chappers/Documents/DataScience/0_Method_DS/MethodDS-KaggleKat-8b57553f8dbf.json"
   ]
  },
  {
   "cell_type": "code",
   "execution_count": 3,
   "metadata": {},
   "outputs": [],
   "source": [
    "# Instantiates a client\n",
    "client = vision.ImageAnnotatorClient()\n",
    "\n",
    "# The name of the image file to annotate\n",
    "file_name = os.path.join(\n",
    "    os.path.dirname('__file__'),\n",
    "    'IMG_2934.jpg')"
   ]
  },
  {
   "cell_type": "code",
   "execution_count": 4,
   "metadata": {},
   "outputs": [
    {
     "name": "stdout",
     "output_type": "stream",
     "text": [
      "Labels:\n",
      "mid: \"/m/0n5v01m\"\n",
      "description: \"bag\"\n",
      "score: 0.8551287651062012\n",
      "topicality: 0.8551287651062012\n",
      "\n",
      "mid: \"/m/01jwgf\"\n",
      "description: \"product\"\n",
      "score: 0.7906313538551331\n",
      "topicality: 0.7906313538551331\n",
      "\n",
      "mid: \"/m/080hkjn\"\n",
      "description: \"handbag\"\n",
      "score: 0.7440301775932312\n",
      "topicality: 0.7440301775932312\n",
      "\n",
      "mid: \"/m/04t7l\"\n",
      "description: \"metal\"\n",
      "score: 0.6029984354972839\n",
      "topicality: 0.6029984354972839\n",
      "\n",
      "mid: \"/m/03hzcs\"\n",
      "description: \"beige\"\n",
      "score: 0.587562084197998\n",
      "topicality: 0.587562084197998\n",
      "\n",
      "mid: \"/m/0j62f\"\n",
      "description: \"rectangle\"\n",
      "score: 0.5806199908256531\n",
      "topicality: 0.5806199908256531\n",
      "\n",
      "mid: \"/m/0hgrzkp\"\n",
      "description: \"shoulder bag\"\n",
      "score: 0.5463389158248901\n",
      "topicality: 0.5463389158248901\n",
      "\n"
     ]
    }
   ],
   "source": [
    "# Loads the image into memory\n",
    "with io.open(file_name, 'rb') as image_file:\n",
    "    content = image_file.read()\n",
    "\n",
    "image = types.Image(content=content)\n",
    "\n",
    "# Performs label detection on the image file\n",
    "response = client.label_detection(image=image)\n",
    "labels = response.label_annotations\n",
    "\n",
    "print('Labels:')\n",
    "for label in labels:\n",
    "    # print(label.description)\n",
    "    print(label)"
   ]
  },
  {
   "cell_type": "code",
   "execution_count": 5,
   "metadata": {},
   "outputs": [
    {
     "data": {
      "text/plain": [
       "'bag , handbag , beige , shoulder bag'"
      ]
     },
     "execution_count": 5,
     "metadata": {},
     "output_type": "execute_result"
    }
   ],
   "source": [
    "# create str_search to be used in the EBAY API call for KEYWORDS\n",
    "str_search = str(labels[0].description + \" , \" +\n",
    "                 labels[2].description + \" , \" +\n",
    "                 # + labels[3].description + \" , \" +\n",
    "                 labels[4].description + \" , \" + \n",
    "                 # labels[5].description + \" , \" +\n",
    "                 labels[6].description)\n",
    "str_search"
   ]
  },
  {
   "cell_type": "code",
   "execution_count": 11,
   "metadata": {},
   "outputs": [],
   "source": [
    "# call EBAY API and get offers, based on the STR_SEARCH value.\n",
    "# note, \n",
    "from ebaysdk.finding import Connection as Finding\n",
    "from ebaysdk.exception import ConnectionError\n",
    "\n",
    "try:\n",
    "    api = Finding(siteid='EBAY-US', appid=\"API_KEY\", config_file=None)\n",
    "    response = api.execute('findItemsAdvanced', {'keywords': str_search})\n",
    "    # print(response.dict())\n",
    "except ConnectionError as e:\n",
    "    print(e)\n",
    "    print(e.response.dict())"
   ]
  },
  {
   "cell_type": "code",
   "execution_count": 12,
   "metadata": {},
   "outputs": [],
   "source": [
    "with open('image_G_output.json', 'w') as outfile:\n",
    "    json.dump(response.dict(), outfile)"
   ]
  },
  {
   "cell_type": "code",
   "execution_count": 13,
   "metadata": {},
   "outputs": [
    {
     "name": "stdout",
     "output_type": "stream",
     "text": [
      "Pretty printer complete.\n"
     ]
    }
   ],
   "source": [
    "# save the records returned from EBAY API in a formatted json file\n",
    "def getFileData(fileName):\n",
    "# Open a file, and read the contents. The with..open operation will auto-close the file as well.\n",
    "    with open(fileName) as handle:\n",
    "        data = handle.read()\n",
    "        return data\n",
    "def prettyPrint(data, outfile):\n",
    "# Pretty print and write the file back to the argument 'outfile'\n",
    "    with open(outfile, \"w\") as handle:\n",
    "        handle.write ( json.dumps(json.loads(data), indent=4, sort_keys=True) )\n",
    "     \n",
    "outfile = 'tester1.json'\n",
    "jsondata = getFileData('image_G_output.json')\n",
    "prettyPrint(jsondata, outfile)\n",
    "print('Pretty printer complete.')"
   ]
  },
  {
   "cell_type": "code",
   "execution_count": 14,
   "metadata": {},
   "outputs": [],
   "source": [
    "# read in the image file (json) that just created\n",
    "with open('image_G_output.json', 'r') as fp:\n",
    "    obj = json.load(fp)"
   ]
  },
  {
   "cell_type": "code",
   "execution_count": 15,
   "metadata": {},
   "outputs": [
    {
     "data": {
      "text/plain": [
       "['http://www.ebay.com/itm/Handbags-Leather-Women-Mini-Messenger-Bag-Handbag-Shoulder-Bag-Womens-Zipper-Ve-/183317314438?var=690617108341',\n",
       " 'http://www.ebay.com/itm/White-House-Black-Market-Handbag-Shoulder-Bag-Tote-Shopper-Beige-Gold-Shiny-/142852393109',\n",
       " 'http://www.ebay.com/itm/Dooney-Bourke-Handbag-Purse-Beige-Off-White-Shoulder-Bag-/123239936880',\n",
       " 'http://www.ebay.com/itm/Women-Leather-Handbag-Shoulder-Ladies-Purse-Messenger-Satchel-Crossbody-Tote-Bag-/401408807710?var=671038088831',\n",
       " 'http://www.ebay.com/itm/Womens-Large-Canvas-Shoulder-Bag-Tote-Handbag-Satchel-Bag-Messenger-Shopping-/163033307654?var=462138387586',\n",
       " 'http://www.ebay.com/itm/Large-Capacity-Handle-Shoulder-bags-handbags-women-famous-brands-Ladies-Solid-Bi-/183317314389?var=690617108302',\n",
       " 'http://www.ebay.com/itm/Authentic-New-ysl-Yves-Saint-Laurent-MONOGRAM-beige-handbag-shoulder-bag-/183316126813',\n",
       " 'http://www.ebay.com/itm/Fashion-Women-Leather-Handbag-Tote-Shoulder-Bag-Purse-Messenger-Crossbody-Bag-/272806676475?var=571946835750',\n",
       " 'http://www.ebay.com/itm/Beige-Handbag-Shoulder-Bag-Purse-Crossbody-Strap-/113102933053',\n",
       " 'http://www.ebay.com/itm/Female-Handbag-Messenger-Bag-Shoulder-Bag-Fashion-Bag-Black-Beige-Brown-Green-/362050489696?var=0',\n",
       " 'http://www.ebay.com/itm/OrYany-Heather-Handbag-Beige-Leather-XXXL-HUGE-Shoulder-Bag-Purse-/183290576951',\n",
       " 'http://www.ebay.com/itm/Authentic-New-ysl-Yves-Saint-Laurent-MONOGRAM-beige-handbag-shoulder-bag-/192593344503',\n",
       " 'http://www.ebay.com/itm/COACH-TAYLOR-FOIL-BEIGE-CREAM-FLAP-SHOULDER-BAG-CROSSBODY-HANDBAG-F30621-/273337236335',\n",
       " 'http://www.ebay.com/itm/Fashion-Women-Handbag-PU-Shoulder-Messenger-Bag-Women-Satchel-Tote-Purse-Bags-/302233662378?var=601075128249',\n",
       " 'http://www.ebay.com/itm/Women-Lady-Handbag-Shoulder-Bags-Tote-Purse-Leather-Messenger-Hobo-Bag-Satchel-/282698125191?var=581929335617',\n",
       " 'http://www.ebay.com/itm/Xiniu-Women-Shoulder-Bags-Solid-Leather-Zipper-Versatile-Handbags-Tote-Purse-Lad-/183317316461?var=690617110369',\n",
       " 'http://www.ebay.com/itm/Beige-HOBO-Style-SHOULDER-BAG-Handbag-Purse-Large-Faux-Leather-/302798464190',\n",
       " 'http://www.ebay.com/itm/Relic-Handbag-Canvas-Flowers-Blue-Brown-Tan-Beige-Shoulder-Bag-Medium-/323317270912',\n",
       " 'http://www.ebay.com/itm/Women-Lady-Handbag-Shoulder-Bags-Tote-Purse-Leather-Messenger-Hobo-Bag-Satchel-/282698125191?var=581929335608',\n",
       " 'http://www.ebay.com/itm/Female-Handbag-Messenger-Bag-Shoulder-Bag-Fashion-Bag-Black-Beige-Brown-Green-/362050489696?var=631282223449',\n",
       " 'http://www.ebay.com/itm/Authentic-New-ysl-Yves-Saint-Laurent-MONOGRAM-beige-handbag-shoulder-bag-/232839689845',\n",
       " 'http://www.ebay.com/itm/Women-Lady-Handbag-Shoulder-Bags-Tote-Purse-Leather-Messenger-Hobo-Bag-Satchel-/282698125191?var=581929335613',\n",
       " 'http://www.ebay.com/itm/COLE-HAAN-LEATHER-BEIGE-HANDBAG-SHOULDER-BAG-NEW-/223043611408',\n",
       " 'http://www.ebay.com/itm/New-Women-Faux-Leather-Shell-Bag-Handbag-Shoulder-Bag-Tote-Messenger-Beige-/232821097427',\n",
       " 'http://www.ebay.com/itm/New-Womens-Handbag-Leather-Satchel-Briefcase-Tote-Bag-Shoulder-Bag-Padlock-Purse-/122085515238?var=421118686546',\n",
       " 'http://www.ebay.com/itm/Fashion-Women-Handbag-Shoulder-Bag-Leather-Messenger-Hobo-Bag-Satchel-Purse-Tote-/381436473422?var=650590726533',\n",
       " 'http://www.ebay.com/itm/Women-Tassel-Leather-Handbag-Shoulder-Messenger-Tote-Bag-Purse-Satchel-Shopper-/162734311617?var=461767842171',\n",
       " 'http://www.ebay.com/itm/Women-Leather-Handbag-Shoulder-Ladies-Purse-Messenger-Satchel-Crossbody-Tote-Bag-/232018685561?var=531211761012',\n",
       " 'http://www.ebay.com/itm/US-Women-Tote-Messenger-Cross-Body-Handbag-Hobo-Bag-Ladies-Shoulder-Bag-Purse-/323254443052?var=512322793730',\n",
       " 'http://www.ebay.com/itm/BURBERRY-Beige-Check-Shoulder-Bag-Handbag-/113128988052',\n",
       " 'http://www.ebay.com/itm/Sak-Handbag-Beige-Pebbled-Leather-Shoulder-Bag-Hobo-Purse-/232811130160',\n",
       " 'http://www.ebay.com/itm/Coach-leather-womens-shoulder-bag-tote-handbag-beige-/113136916820',\n",
       " 'http://www.ebay.com/itm/Women-Backpack-PU-Leather-Handbag-Schoolbags-Shoulder-Bag-Rucksack-Satchel-Purse-/153033474345?var=452853421497',\n",
       " 'http://www.ebay.com/itm/Kipling-Taylor-Handbag-Shoulder-Bag-Khaki-Beige-Tan-Cream-Leather-/323297672129',\n",
       " 'http://www.ebay.com/itm/Womens-Large-Canvas-Shoulder-Bag-Tote-Handbag-Satchel-Bag-Messenger-Shopping-XW-/392062523561?var=661014599068',\n",
       " 'http://www.ebay.com/itm/Genuine-SAS-Handbag-Purse-Beige-Leather-Shoulder-Bag-Handsewn-/372343361711',\n",
       " 'http://www.ebay.com/itm/Tommy-Hilfiger-Purse-Crossbody-Shoulder-Bag-Removable-Pouch-2-Piece-Set-Nwt-New-/362381526524?var=631571244528',\n",
       " 'http://www.ebay.com/itm/Brighton-Small-Purse-Handbag-Shoulder-bag-Beige-Weave-Straw-White-Leather-/123241579695',\n",
       " 'http://www.ebay.com/itm/RELIC-BEIGE-TAN-MEDIUM-BAG-GORGEOUS-STRAW-LOOK-HANDBAG-SHOULDER-BAG-PURSE-/183291869253',\n",
       " 'http://www.ebay.com/itm/Betty-Boop-Large-Hobo-Handbag-Shoulder-Bag-Purse-Beige-Studded-/253728112813',\n",
       " 'http://www.ebay.com/itm/Dolce-Gabbana-Beige-Pebbled-Leather-Gold-Tone-Hardware-Handbag-Shoulder-Bag-/312181595742',\n",
       " 'http://www.ebay.com/itm/New-Womens-Faux-Leather-Fashion-Messenger-Handbag-Lady-Shoulder-Bag-Totes-Purse-/301629438534?var=600498948373',\n",
       " 'http://www.ebay.com/itm/NEW-Women-shoulder-bag-6PCS-set-satchel-handbag-fashion-handbags-/302790705028?var=601678592195',\n",
       " 'http://www.ebay.com/itm/New-Womens-Handbags-Faux-Leather-Tote-Bag-Satchels-Shoulder-Bags-Large-Day-Purse-/122244684636?var=422931485430',\n",
       " 'http://www.ebay.com/itm/New-Women-Beige-Sweet-Shoulder-Bag-Bohemian-Beach-Straw-Bucket-Handbag-US-/163006837882',\n",
       " 'http://www.ebay.com/itm/US-Women-Handbag-Shoulder-Bag-Tote-Purse-Leather-Messenger-Crossbody-Bag-Satchel-/232811489008?var=532323051520',\n",
       " 'http://www.ebay.com/itm/Women-Pearl-Evening-Handbag-Shoulder-Bag-Wedding-Formal-Cocktail-Clutch-Purse-/253629511971?var=552860530556',\n",
       " 'http://www.ebay.com/itm/New-Womens-Handbag-Leather-Satchel-Briefcase-Tote-Bag-Shoulder-Bag-Padlock-Purse-/122085515238?var=423126902953',\n",
       " 'http://www.ebay.com/itm/New-Dasein-Womens-Handbags-Faux-Leather-Satchels-Tote-Bag-Shoulder-Bags-Purse-/122486319039?var=423085984216',\n",
       " 'http://www.ebay.com/itm/Sak-bag-Beige-Crochet-Satchel-Shoulder-Bag-purse-handbag-/253740816162',\n",
       " 'http://www.ebay.com/itm/2017-Owl-Womens-Canvas-Capacity-Handbag-Shopping-Shoulder-Bag-Shopper-Tote-RH-/112985960213?var=413363835527',\n",
       " 'http://www.ebay.com/itm/US-WOMEN-TASSLE-Suede-Bag-Fringe-Shoulder-MESSENGER-HOBO-HANDBAG-PURSE-/223026216264?var=521834790037',\n",
       " 'http://www.ebay.com/itm/New-Fashion-Women-Handbag-Shoulder-Bags-Tote-Purse-Messenger-Hobo-Satchel-Bag-/232309223773?var=531564274812',\n",
       " 'http://www.ebay.com/itm/New-Dasein-Womens-Handbags-Faux-Leather-Satchels-Tote-Bag-Shoulder-Bags-Purse-/122486319039?var=423036830378',\n",
       " 'http://www.ebay.com/itm/Women-Bag-Floral-Lace-Handbag-Evening-Party-Clutch-Bag-Purse-Bridal-Shoulder-Bag-/201627951748?var=500871703140',\n",
       " 'http://www.ebay.com/itm/New-Women-Handbag-Shoulder-Bags-Tote-Purse-Messenger-Hobo-Satchel-Bag-Cross-Body-/401002953954?var=670872832790',\n",
       " 'http://www.ebay.com/itm/SAK-Bucket-Handbag-Crochet-Beige-Shoulder-Bag-Tote-/302796322577',\n",
       " 'http://www.ebay.com/itm/Laura-Scott-Handbag-Beige-Shoulder-Bag-Gold-Hardware-3-Main-Zip-Compartments-/323323711421',\n",
       " 'http://www.ebay.com/itm/WORTHINGTON-NEUTRAL-CAMEL-BROWN-BEIGE-SHOULDER-BAG-HANDBAG-PURSE-FAUX-LEATHER-/173394893290',\n",
       " 'http://www.ebay.com/itm/New-Womens-Faux-Leather-Fashion-Messenger-Handbag-Lady-Shoulder-Bag-Totes-Purse-/302750188856?var=601622772085',\n",
       " 'http://www.ebay.com/itm/Brighton-Ivory-Large-beige-Shoulder-Bag-Handbag-Purse-woven-pebbled-leather-/153082500581',\n",
       " 'http://www.ebay.com/itm/Female-Handbag-Messenger-Bag-Shoulder-Bag-Fashion-Bag-Black-Beige-Brown-Green-/362050489696?var=631282223446',\n",
       " 'http://www.ebay.com/itm/LINA-Tan-Beige-Lined-Crochet-Woven-Crossbody-Shoulder-Bag-Handbag-Purse-/273335828760',\n",
       " 'http://www.ebay.com/itm/New-Women-Handbag-Shoulder-Bags-Tote-Purse-PU-Leather-Messenger-Hobo-Bag-Satchel-/191992731653?var=492021942193',\n",
       " 'http://www.ebay.com/itm/Coach-Alexandra-Chain-Tote-Leather-Beige-Tan-Shoulder-Bag-Handbag-F20812-/292632858704',\n",
       " 'http://www.ebay.com/itm/Women-Leather-Handbag-Shoulder-Bag-Ladies-Purse-Tote-Messenger-Satchel-Crossbody-/122902811449?var=423356170375',\n",
       " 'http://www.ebay.com/itm/EP-Women-Girls-Mini-Backpack-Chic-Rivet-Faux-Leather-Shoulder-Bag-Handbag-Fashi-/222875290003?var=521707068908',\n",
       " 'http://www.ebay.com/itm/MICHAEL-KORS-Beige-Gold-metallic-tote-bag-shopper-shoulder-handbag-NEW-/202360439582',\n",
       " 'http://www.ebay.com/itm/CHRISTOPHER-KON-Large-Pink-Beige-Woven-Leather-Shoulder-Tote-Purse-Carryall-Bag-/332707151878',\n",
       " 'http://www.ebay.com/itm/Fashion-Weave-Woven-Straw-Shoulder-Beach-Big-Bag-Handbag-Tote-Simple-Bag-top-/323056356269?var=512178155371',\n",
       " 'http://www.ebay.com/itm/Women-Leather-Handbag-Shoulder-Bag-Ladies-Purse-Tote-Messenger-Satchel-Crossbody-/122902811449?var=423356170379',\n",
       " 'http://www.ebay.com/itm/New-Women-Handbag-Shoulder-Bags-Tote-Purse-PU-Leather-Messenger-Hobo-Bag-Satchel-/191992731653?var=492021942177',\n",
       " 'http://www.ebay.com/itm/Cynthia-Rowley-Beige-Tan-Leather-Shoulder-Bag-Purse-Handbag-Rose-Gold-Tassels-/302785169323',\n",
       " 'http://www.ebay.com/itm/New-Women-Handbag-Shoulder-Bags-Tote-Purse-Messenger-Hobo-Satchel-Bag-Cross-Body-/401002953954?var=670872832815',\n",
       " 'http://www.ebay.com/itm/Fashion-Womens-Handbag-Shoulder-Bag-Messenger-Hobo-Bag-Satchel-Purse-Tote-/311562203599?var=610541661699',\n",
       " 'http://www.ebay.com/itm/Womens-Large-Canvas-Shoulder-Bag-Tote-Handbag-Satchel-Bag-Messenger-Shopping-T-/332682299484?var=541810371460',\n",
       " 'http://www.ebay.com/itm/Sak-Beige-Leather-Crossbody-Shoulder-Bag-Handbag-Tote-/263802515905',\n",
       " 'http://www.ebay.com/itm/Kipling-Bag-Sally-Purse-Crossbody-Shoulder-Bag-Beige-Handbag-Multi-Pockets-/332710451200',\n",
       " 'http://www.ebay.com/itm/B-Makowsky-Tasseled-Beige-Leather-Shoulder-Bag-Purse-Handbag-/273345651964',\n",
       " 'http://www.ebay.com/itm/NEW-Women-Bag-Luxury-Leather-Handbag-Shoulder-Message-Bag-Purse-6PCS-One-Set-/132691417168?var=432012482064',\n",
       " 'http://www.ebay.com/itm/Jessica-Simpson-Beige-Cream-Handbag-Quilted-Purse-Gigi-Shoulder-Bag-MSRP-108-/323319364173',\n",
       " 'http://www.ebay.com/itm/New-Women-Handbag-Shoulder-Bags-Tote-Purse-PU-Leather-Messenger-Hobo-Bag-Satchel-/191992731653?var=492021942189',\n",
       " 'http://www.ebay.com/itm/Brahmin-Nude-Beige-Large-Shoulder-Bag-Soft-Purse-w-matching-wallet-gorgeous-/273345552000',\n",
       " 'http://www.ebay.com/itm/Fashion-Women-Shoulder-Bag-Leather-Clutch-Handbag-Tote-Purse-Hobo-Messenger-Bag-/192283956701?var=492217349363',\n",
       " 'http://www.ebay.com/itm/Womens-3Pcs-Knitted-Leather-Shopper-Clutch-Hobo-Shoulder-Bag-Tote-Handbag-/153012837280?var=452818453966',\n",
       " 'http://www.ebay.com/itm/Banana-Republic-Slouchy-Beige-Leather-Satchel-Hobo-Shoulder-Bag-Handbag-Tote-/132648391982',\n",
       " 'http://www.ebay.com/itm/Women-Leather-Handbag-Shoulder-Bag-Ladies-Tote-Messenger-Purse-Satchel-Cross-Bag-/262981336102?var=561988567666',\n",
       " 'http://www.ebay.com/itm/AEROPOSTALE-Beaded-Beige-Crochet-Purse-Crossbody-Shoulder-Bag-/223038089483',\n",
       " 'http://www.ebay.com/itm/Womens-Quilted-Chain-Black-Bag-Leather-Shoulder-Bag-Crossbody-Handbag-Ladies-/112866618783?var=413278327112',\n",
       " 'http://www.ebay.com/itm/NEW-Women-Leather-Shoulder-Bag-Clutch-Handbag-Fashion-Tote-Purse-Hobo-Messenger-/311975456076?var=610758754729',\n",
       " 'http://www.ebay.com/itm/Shopping-Shoulder-Bag-Cotton-Canvas-Women-Handbag-Beige-Plain-Tote-Eco-Friendly-/192538271761',\n",
       " 'http://www.ebay.com/itm/Brahmin-Rosa-Beige-Linen-Straw-Brown-Leather-Purse-Shoulder-Bag-Handbag-Dustbag-/263800368400',\n",
       " 'http://www.ebay.com/itm/Fashion-Women-Tote-Shoulder-Bags-Leather-Handbag-Lady-Purse-Hobo-Bag-Satchel-/123047287416?var=423477581123',\n",
       " 'http://www.ebay.com/itm/Women-Leather-Bucket-Tote-Shoulder-Bag-Fashion-Handbag-Purse-Small-Bag-/352317087593?var=621703955790',\n",
       " 'http://www.ebay.com/itm/Coach-Handbag-Satchel-Computer-Case-Patent-leather-Shoulder-Bag-Beige-Tan-/153082631860',\n",
       " 'http://www.ebay.com/itm/Ralph-Lauren-LRL-Womens-Purse-Handbag-Shoulder-Bag-Equestrian-Beige-Stirrup-/263730253514',\n",
       " 'http://www.ebay.com/itm/Western-Cross-Stud-Country-Handbag-Concealed-Purse-Women-Shoulder-Bag-Wallet-Set-/222937646216?var=521755135149',\n",
       " 'http://www.ebay.com/itm/Gucci-Royal-Hobo-Signature-GG-Shoulder-bag-Handbag-Purse-Beige-Brown-Canvas-/263792098899',\n",
       " 'http://www.ebay.com/itm/MICHAEL-KORS-SIGNATURE-BROWN-BEIGE-TOTE-SHOULDER-BAG-HANDBAG-PURSE-Jet-Set-/132697326066',\n",
       " 'http://www.ebay.com/itm/Fashion-Bucket-Bag-Handbag-Crossbody-Bag-Practical-Shoulder-Bag-Outdoor-Casual-W-/123236547097?var=423642290899']"
      ]
     },
     "execution_count": 15,
     "metadata": {},
     "output_type": "execute_result"
    }
   ],
   "source": [
    "# save off the URL's for all offers found\n",
    "url_list=[]\n",
    "for row in range(0,len(obj[\"searchResult\"][\"item\"])):\n",
    "    url_list.append(obj[\"searchResult\"][\"item\"][row][\"viewItemURL\"])\n",
    "url_list"
   ]
  },
  {
   "cell_type": "code",
   "execution_count": null,
   "metadata": {},
   "outputs": [],
   "source": []
  }
 ],
 "metadata": {
  "kernelspec": {
   "display_name": "Python 3",
   "language": "python",
   "name": "python3"
  },
  "language_info": {
   "codemirror_mode": {
    "name": "ipython",
    "version": 3
   },
   "file_extension": ".py",
   "mimetype": "text/x-python",
   "name": "python",
   "nbconvert_exporter": "python",
   "pygments_lexer": "ipython3",
   "version": "3.6.5"
  },
  "toc": {
   "base_numbering": 1,
   "nav_menu": {},
   "number_sections": true,
   "sideBar": true,
   "skip_h1_title": false,
   "title_cell": "Table of Contents",
   "title_sidebar": "Contents",
   "toc_cell": false,
   "toc_position": {},
   "toc_section_display": true,
   "toc_window_display": false
  }
 },
 "nbformat": 4,
 "nbformat_minor": 2
}
